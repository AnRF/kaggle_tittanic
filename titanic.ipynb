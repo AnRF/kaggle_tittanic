{
 "cells": [
  {
   "cell_type": "code",
   "execution_count": 10,
   "metadata": {},
   "outputs": [],
   "source": [
    "import pandas as pd\n",
    "import bisect\n",
    "import matplotlib.pyplot as plt\n",
    "import numpy as np\n",
    "from sklearn.preprocessing import LabelEncoder, MinMaxScaler\n",
    "from sklearn.model_selection import train_test_split\n",
    "from sklearn.svm import SVC\n",
    "from sklearn.metrics import classification_report, confusion_matrix\n",
    "import warnings\n",
    "warnings.filterwarnings('ignore')"
   ]
  },
  {
   "cell_type": "markdown",
   "metadata": {},
   "source": [
    "## Load and Split Data"
   ]
  },
  {
   "cell_type": "code",
   "execution_count": 19,
   "metadata": {},
   "outputs": [],
   "source": [
    "def split_data(x, y, test_size):\n",
    "    X_train, X_test, y_train, y_test = train_test_split(x, y, test_size=test_size)\n",
    "    return X_train, X_test, y_train, y_test"
   ]
  },
  {
   "cell_type": "markdown",
   "metadata": {},
   "source": [
    "## Feature Engineering "
   ]
  },
  {
   "cell_type": "code",
   "execution_count": 33,
   "metadata": {},
   "outputs": [],
   "source": [
    "def get_features(X_train, X_test, y_train, y_test):\n",
    "    # Min Max Scaler for age and flare\n",
    "    age_scaler = MinMaxScaler()\n",
    "    fare_scaler = MinMaxScaler()\n",
    "    X_train['Age'] = age_scaler.fit_transform(X_train['Age'].values.reshape(-1,1))\n",
    "    X_train['Fare'] = age_scaler.fit_transform(X_train['Fare'].values.reshape(-1,1))\n",
    "    X_test['Age'] = age_scaler.transform(X_test['Age'].values.reshape(-1,1))\n",
    "    X_test['Fare'] = age_scaler.transform(X_test['Fare'].values.reshape(-1,1))\n",
    "\n",
    "    # Get features from cabin and ticket\n",
    "    X_train['Cabin'] = list(map(lambda x: str([c for c in x][0]), X_train['Cabin']))\n",
    "    X_train['Ticket'] = list(map(lambda x: [c for c in x if c.isalpha()], X_train['Ticket']))\n",
    "    X_train['Ticket'] = list(map(lambda x: ''.join(x), X_train['Ticket']))\n",
    "    X_test['Cabin'] = list(map(lambda x: str([c for c in x][0]), X_test['Cabin']))\n",
    "    X_test['Ticket'] = list(map(lambda x: [c for c in x if c.isalpha()], X_test['Ticket']))\n",
    "    X_test['Ticket'] = list(map(lambda x: ''.join(x), X_test['Ticket']))\n",
    "\n",
    "    # Encode non_numeric features\n",
    "    sex_encoder = LabelEncoder().fit(X_train['Sex'].values)\n",
    "    ticket_encoder = LabelEncoder().fit(X_train['Ticket'].values)\n",
    "    cabin_encoder = LabelEncoder().fit(X_train['Cabin'].values)\n",
    "    embarked_encoder = LabelEncoder().fit(X_train['Embarked'].values)\n",
    "\n",
    "    X_test['Sex'] = X_test['Sex'].map(lambda s: '<unknown>' if s not in sex_encoder.classes_ else s)\n",
    "    X_test['Ticket'] = X_test['Ticket'].map(lambda s: '<unknown>' if s not in ticket_encoder.classes_ else s)\n",
    "    X_test['Cabin'] = X_test['Cabin'].map(lambda s: '<unknown>' if s not in cabin_encoder.classes_ else s)\n",
    "    X_test['Embarked'] = X_test['Embarked'].map(lambda s: '<unknown>' if s not in embarked_encoder.classes_ else s)\n",
    "\n",
    "    sex_encoder.classes_ = np.append(sex_encoder.classes_, '<unknown>')\n",
    "    ticket_encoder.classes_ = np.append(ticket_encoder.classes_, '<unknown>')\n",
    "    cabin_encoder.classes_ = np.append(cabin_encoder.classes_, '<unknown>')\n",
    "    embarked_encoder.classes_ = np.append(embarked_encoder.classes_, '<unknown>')\n",
    "\n",
    "    X_train['Sex'] = sex_encoder.transform(X_train['Sex'].values)\n",
    "    X_train['Ticket'] = ticket_encoder.transform(X_train['Ticket'].values)\n",
    "    X_train['Cabin'] = cabin_encoder.transform(X_train['Cabin'].values)\n",
    "    X_train['Embarked'] = embarked_encoder.transform(X_train['Embarked'].values)\n",
    "\n",
    "    X_test['Sex'] = sex_encoder.transform(X_test['Sex'].values)\n",
    "    X_test['Ticket'] = ticket_encoder.transform(X_test['Ticket'].values)\n",
    "    X_test['Cabin'] = cabin_encoder.transform(X_test['Cabin'].values)\n",
    "    X_test['Embarked'] = embarked_encoder.transform(X_test['Embarked'].values)\n",
    "\n",
    "    #Transform to matrix and vectors\n",
    "    X_test = X_test.values\n",
    "    X_train = X_train.values\n",
    "    y_test = y_test.values.reshape(-1,1)\n",
    "    y_train = y_train.values.reshape(-1,1)\n",
    "\n",
    "#     print('X train shape: ', X_train.shape, '-- y train shape: ', y_train.shape)\n",
    "#     print('X test shape: ', X_test.shape, '-- y test shape: ', y_test.shape)\n",
    "    \n",
    "    encoders = {'age': age_scaler, 'fare': fare_scaler, 'sex': sex_encoder, \n",
    "                'ticket': ticket_encoder, 'cabin': cabin_encoder, 'embarked': embarked_encoder}\n",
    "    \n",
    "    train_data = [X_train, y_train]\n",
    "    \n",
    "    test_data = [X_test, y_test]\n",
    "    \n",
    "    return X_train, X_test, y_train, y_test, encoders"
   ]
  },
  {
   "cell_type": "markdown",
   "metadata": {},
   "source": [
    "## Train Model"
   ]
  },
  {
   "cell_type": "markdown",
   "metadata": {},
   "source": [
    "### Support Vector Classifier "
   ]
  },
  {
   "cell_type": "code",
   "execution_count": 44,
   "metadata": {},
   "outputs": [],
   "source": [
    "def cross_val_SVM(x, y, cross_vals = 5):\n",
    "    kernels = ['linear', 'poly', 'rbf', 'sigmoid']\n",
    "    results = []\n",
    "    for k in kernels:\n",
    "        precision = []\n",
    "        recall = []\n",
    "        for i in range(cross_vals):\n",
    "            svc = SVC(kernel=k)\n",
    "            X_train, X_test, y_train, y_test = split_data(x, y, 0.33)\n",
    "            X_train, X_test, y_train, y_test, encoders = get_features(X_train, X_test, y_train, y_test)\n",
    "            svc.fit(X_train,y_train)\n",
    "            y_pred = svc.predict(X_test)\n",
    "            report = classification_report(y_test,y_pred, output_dict=True)\n",
    "            precision.append(report['macro avg']['precision'])\n",
    "            recall.append(report['macro avg']['recall'])\n",
    "        results.append({'kernel': k, 'avg_prec': sum(precision)/len(precision), 'avg_recall': sum(recall)/len(recall),\n",
    "                       'prec': precision, 'recall': recall})\n",
    "        \n",
    "    return pd.DataFrame(results)        "
   ]
  },
  {
   "cell_type": "markdown",
   "metadata": {},
   "source": [
    "## Test"
   ]
  },
  {
   "cell_type": "code",
   "execution_count": 46,
   "metadata": {
    "scrolled": false
   },
   "outputs": [
    {
     "data": {
      "text/html": [
       "<div>\n",
       "<style scoped>\n",
       "    .dataframe tbody tr th:only-of-type {\n",
       "        vertical-align: middle;\n",
       "    }\n",
       "\n",
       "    .dataframe tbody tr th {\n",
       "        vertical-align: top;\n",
       "    }\n",
       "\n",
       "    .dataframe thead th {\n",
       "        text-align: right;\n",
       "    }\n",
       "</style>\n",
       "<table border=\"1\" class=\"dataframe\">\n",
       "  <thead>\n",
       "    <tr style=\"text-align: right;\">\n",
       "      <th></th>\n",
       "      <th>kernel</th>\n",
       "      <th>avg_prec</th>\n",
       "      <th>avg_recall</th>\n",
       "      <th>prec</th>\n",
       "      <th>recall</th>\n",
       "    </tr>\n",
       "  </thead>\n",
       "  <tbody>\n",
       "    <tr>\n",
       "      <th>0</th>\n",
       "      <td>linear</td>\n",
       "      <td>0.784648</td>\n",
       "      <td>0.775815</td>\n",
       "      <td>[0.8084893048128342, 0.7912303664921466, 0.746...</td>\n",
       "      <td>[0.8102372034956304, 0.7842751842751843, 0.733...</td>\n",
       "    </tr>\n",
       "    <tr>\n",
       "      <th>1</th>\n",
       "      <td>poly</td>\n",
       "      <td>0.703168</td>\n",
       "      <td>0.634138</td>\n",
       "      <td>[0.6983216092805133, 0.6441016624040921, 0.739...</td>\n",
       "      <td>[0.6557623340118252, 0.5436900261703984, 0.743...</td>\n",
       "    </tr>\n",
       "    <tr>\n",
       "      <th>2</th>\n",
       "      <td>rbf</td>\n",
       "      <td>0.769309</td>\n",
       "      <td>0.758171</td>\n",
       "      <td>[0.7322970639032815, 0.8066846465035639, 0.788...</td>\n",
       "      <td>[0.7273314774309008, 0.8086168459823592, 0.768...</td>\n",
       "    </tr>\n",
       "    <tr>\n",
       "      <th>3</th>\n",
       "      <td>sigmoid</td>\n",
       "      <td>0.637074</td>\n",
       "      <td>0.628920</td>\n",
       "      <td>[0.6136603375527426, 0.6802337450239869, 0.619...</td>\n",
       "      <td>[0.5976389448248087, 0.6695716892346106, 0.611...</td>\n",
       "    </tr>\n",
       "  </tbody>\n",
       "</table>\n",
       "</div>"
      ],
      "text/plain": [
       "    kernel  avg_prec  avg_recall  \\\n",
       "0   linear  0.784648    0.775815   \n",
       "1     poly  0.703168    0.634138   \n",
       "2      rbf  0.769309    0.758171   \n",
       "3  sigmoid  0.637074    0.628920   \n",
       "\n",
       "                                                prec  \\\n",
       "0  [0.8084893048128342, 0.7912303664921466, 0.746...   \n",
       "1  [0.6983216092805133, 0.6441016624040921, 0.739...   \n",
       "2  [0.7322970639032815, 0.8066846465035639, 0.788...   \n",
       "3  [0.6136603375527426, 0.6802337450239869, 0.619...   \n",
       "\n",
       "                                              recall  \n",
       "0  [0.8102372034956304, 0.7842751842751843, 0.733...  \n",
       "1  [0.6557623340118252, 0.5436900261703984, 0.743...  \n",
       "2  [0.7273314774309008, 0.8086168459823592, 0.768...  \n",
       "3  [0.5976389448248087, 0.6695716892346106, 0.611...  "
      ]
     },
     "metadata": {},
     "output_type": "display_data"
    }
   ],
   "source": [
    "data = pd.read_csv('train.csv')\n",
    "data.drop(columns = ['PassengerId', 'Name'], inplace = True)\n",
    "data.fillna('-1', inplace = True)\n",
    "y = data['Survived']\n",
    "x = data.drop(columns = ['Survived'])\n",
    "svm_results = cross_val_SVM(x, y, cross_vals = 20)\n",
    "display(svm_results)"
   ]
  },
  {
   "cell_type": "code",
   "execution_count": 43,
   "metadata": {
    "scrolled": true
   },
   "outputs": [
    {
     "data": {
      "text/html": [
       "<div>\n",
       "<style scoped>\n",
       "    .dataframe tbody tr th:only-of-type {\n",
       "        vertical-align: middle;\n",
       "    }\n",
       "\n",
       "    .dataframe tbody tr th {\n",
       "        vertical-align: top;\n",
       "    }\n",
       "\n",
       "    .dataframe thead th {\n",
       "        text-align: right;\n",
       "    }\n",
       "</style>\n",
       "<table border=\"1\" class=\"dataframe\">\n",
       "  <thead>\n",
       "    <tr style=\"text-align: right;\">\n",
       "      <th></th>\n",
       "      <th>kernel</th>\n",
       "      <th>avg_prec</th>\n",
       "      <th>avg_recall</th>\n",
       "      <th>prec</th>\n",
       "      <th>recall</th>\n",
       "    </tr>\n",
       "  </thead>\n",
       "  <tbody>\n",
       "    <tr>\n",
       "      <th>0</th>\n",
       "      <td>linear</td>\n",
       "      <td>0.780856</td>\n",
       "      <td>0.772941</td>\n",
       "      <td>[0.7641242937853108, 0.7847489395284601, 0.792...</td>\n",
       "      <td>[0.7673500048463702, 0.7780292814486611, 0.780...</td>\n",
       "    </tr>\n",
       "    <tr>\n",
       "      <th>1</th>\n",
       "      <td>poly</td>\n",
       "      <td>0.714385</td>\n",
       "      <td>0.617720</td>\n",
       "      <td>[0.7735826001955034, 0.6865997381056308, 0.755...</td>\n",
       "      <td>[0.6060835781294418, 0.6239130434782609, 0.632...</td>\n",
       "    </tr>\n",
       "    <tr>\n",
       "      <th>2</th>\n",
       "      <td>rbf</td>\n",
       "      <td>0.766430</td>\n",
       "      <td>0.752712</td>\n",
       "      <td>[0.7302847464803641, 0.7982169629470979, 0.761...</td>\n",
       "      <td>[0.7210200142233059, 0.77081104735972, 0.75051...</td>\n",
       "    </tr>\n",
       "    <tr>\n",
       "      <th>3</th>\n",
       "      <td>sigmoid</td>\n",
       "      <td>0.653211</td>\n",
       "      <td>0.651890</td>\n",
       "      <td>[0.66489703989704, 0.649221278317152, 0.666461...</td>\n",
       "      <td>[0.6798245614035088, 0.6385836385836385, 0.672...</td>\n",
       "    </tr>\n",
       "  </tbody>\n",
       "</table>\n",
       "</div>"
      ],
      "text/plain": [
       "    kernel  avg_prec  avg_recall  \\\n",
       "0   linear  0.780856    0.772941   \n",
       "1     poly  0.714385    0.617720   \n",
       "2      rbf  0.766430    0.752712   \n",
       "3  sigmoid  0.653211    0.651890   \n",
       "\n",
       "                                                prec  \\\n",
       "0  [0.7641242937853108, 0.7847489395284601, 0.792...   \n",
       "1  [0.7735826001955034, 0.6865997381056308, 0.755...   \n",
       "2  [0.7302847464803641, 0.7982169629470979, 0.761...   \n",
       "3  [0.66489703989704, 0.649221278317152, 0.666461...   \n",
       "\n",
       "                                              recall  \n",
       "0  [0.7673500048463702, 0.7780292814486611, 0.780...  \n",
       "1  [0.6060835781294418, 0.6239130434782609, 0.632...  \n",
       "2  [0.7210200142233059, 0.77081104735972, 0.75051...  \n",
       "3  [0.6798245614035088, 0.6385836385836385, 0.672...  "
      ]
     },
     "metadata": {},
     "output_type": "display_data"
    }
   ],
   "source": [
    "svm_df = pd.DataFrame(svm_results)\n",
    "display(svm_df)"
   ]
  }
 ],
 "metadata": {
  "kernelspec": {
   "display_name": "Python 3",
   "language": "python",
   "name": "python3"
  },
  "language_info": {
   "codemirror_mode": {
    "name": "ipython",
    "version": 3
   },
   "file_extension": ".py",
   "mimetype": "text/x-python",
   "name": "python",
   "nbconvert_exporter": "python",
   "pygments_lexer": "ipython3",
   "version": "3.7.6"
  }
 },
 "nbformat": 4,
 "nbformat_minor": 4
}
