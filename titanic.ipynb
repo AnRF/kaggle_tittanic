{
 "cells": [
  {
   "cell_type": "code",
   "execution_count": 85,
   "metadata": {},
   "outputs": [],
   "source": [
    "import pandas as pd\n",
    "import bisect\n",
    "import matplotlib.pyplot as plt\n",
    "import numpy as np\n",
    "from sklearn.preprocessing import LabelEncoder, MinMaxScaler\n",
    "from sklearn.model_selection import train_test_split\n",
    "import warnings\n",
    "warnings.filterwarnings('ignore')"
   ]
  },
  {
   "cell_type": "markdown",
   "metadata": {},
   "source": [
    "## Load and Split Data"
   ]
  },
  {
   "cell_type": "code",
   "execution_count": 105,
   "metadata": {},
   "outputs": [],
   "source": [
    "data = pd.read_csv('train.csv')\n",
    "data.drop(columns = ['PassengerId', 'Name'], inplace = True)\n",
    "data.fillna('-1', inplace = True)\n",
    "y = data['Survived']\n",
    "x = data.drop(columns = ['Survived'])\n",
    "X_train, X_test, y_train, y_test = train_test_split(x, y, test_size=0.33, random_state=42)"
   ]
  },
  {
   "cell_type": "markdown",
   "metadata": {},
   "source": [
    "## Feature Engineering "
   ]
  },
  {
   "cell_type": "code",
   "execution_count": 106,
   "metadata": {},
   "outputs": [
    {
     "name": "stdout",
     "output_type": "stream",
     "text": [
      "X train shape:  (596, 9) -- y train shape:  (596, 1)\n",
      "X test shape:  (295, 9) -- y test shape:  (295, 1)\n"
     ]
    }
   ],
   "source": [
    "# Min Max Scaler for age and flare\n",
    "age_scaler = MinMaxScaler()\n",
    "fare_scaler = MinMaxScaler()\n",
    "X_train['Age'] = age_scaler.fit_transform(X_train['Age'].values.reshape(-1,1))\n",
    "X_train['Fare'] = age_scaler.fit_transform(X_train['Fare'].values.reshape(-1,1))\n",
    "X_test['Age'] = age_scaler.transform(X_test['Age'].values.reshape(-1,1))\n",
    "X_test['Fare'] = age_scaler.transform(X_test['Fare'].values.reshape(-1,1))\n",
    "\n",
    "# Get features from cabin and ticket\n",
    "X_train['Cabin'] = list(map(lambda x: str([c for c in x][0]), X_train['Cabin']))\n",
    "X_train['Ticket'] = list(map(lambda x: [c for c in x if c.isalpha()], X_train['Ticket']))\n",
    "X_train['Ticket'] = list(map(lambda x: ''.join(x), X_train['Ticket']))\n",
    "X_test['Cabin'] = list(map(lambda x: str([c for c in x][0]), X_test['Cabin']))\n",
    "X_test['Ticket'] = list(map(lambda x: [c for c in x if c.isalpha()], X_test['Ticket']))\n",
    "X_test['Ticket'] = list(map(lambda x: ''.join(x), X_test['Ticket']))\n",
    "\n",
    "# Encode non_numeric features\n",
    "sex_encoder = LabelEncoder().fit(X_train['Sex'].values)\n",
    "ticket_encoder = LabelEncoder().fit(X_train['Ticket'].values)\n",
    "cabin_encoder = LabelEncoder().fit(X_train['Cabin'].values)\n",
    "embarked_encoder = LabelEncoder().fit(X_train['Embarked'].values)\n",
    "\n",
    "X_test['Sex'] = X_test['Sex'].map(lambda s: '<unknown>' if s not in sex_encoder.classes_ else s)\n",
    "X_test['Ticket'] = X_test['Ticket'].map(lambda s: '<unknown>' if s not in ticket_encoder.classes_ else s)\n",
    "X_test['Cabin'] = X_test['Cabin'].map(lambda s: '<unknown>' if s not in cabin_encoder.classes_ else s)\n",
    "X_test['Embarked'] = X_test['Embarked'].map(lambda s: '<unknown>' if s not in embarked_encoder.classes_ else s)\n",
    "\n",
    "sex_encoder.classes_ = np.append(sex_encoder.classes_, '<unknown>')\n",
    "ticket_encoder.classes_ = np.append(ticket_encoder.classes_, '<unknown>')\n",
    "cabin_encoder.classes_ = np.append(cabin_encoder.classes_, '<unknown>')\n",
    "embarked_encoder.classes_ = np.append(embarked_encoder.classes_, '<unknown>')\n",
    "\n",
    "X_train['Sex'] = sex_encoder.transform(X_train['Sex'].values)\n",
    "X_train['Ticket'] = ticket_encoder.transform(X_train['Ticket'].values)\n",
    "X_train['Cabin'] = cabin_encoder.transform(X_train['Cabin'].values)\n",
    "X_train['Embarked'] = embarked_encoder.transform(X_train['Embarked'].values)\n",
    "\n",
    "X_test['Sex'] = sex_encoder.transform(X_test['Sex'].values)\n",
    "X_test['Ticket'] = ticket_encoder.transform(X_test['Ticket'].values)\n",
    "X_test['Cabin'] = cabin_encoder.transform(X_test['Cabin'].values)\n",
    "X_test['Embarked'] = embarked_encoder.transform(X_test['Embarked'].values)\n",
    "\n",
    "#Transform to matrix and vectors\n",
    "X_test = X_test.values\n",
    "X_train = X_train.values\n",
    "y_test = y_test.values.reshape(-1,1)\n",
    "y_train = y_train.values.reshape(-1,1)\n",
    "\n",
    "print('X train shape: ', X_train.shape, '-- y train shape: ', y_train.shape)\n",
    "print('X test shape: ', X_test.shape, '-- y test shape: ', y_test.shape)"
   ]
  }
 ],
 "metadata": {
  "kernelspec": {
   "display_name": "Python 3",
   "language": "python",
   "name": "python3"
  },
  "language_info": {
   "codemirror_mode": {
    "name": "ipython",
    "version": 3
   },
   "file_extension": ".py",
   "mimetype": "text/x-python",
   "name": "python",
   "nbconvert_exporter": "python",
   "pygments_lexer": "ipython3",
   "version": "3.7.6"
  }
 },
 "nbformat": 4,
 "nbformat_minor": 4
}
